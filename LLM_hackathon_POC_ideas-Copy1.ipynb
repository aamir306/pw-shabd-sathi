{
 "cells": [
  {
   "cell_type": "code",
   "execution_count": 2,
   "id": "5d59392a",
   "metadata": {},
   "outputs": [],
   "source": [
    "# !pip install openai"
   ]
  },
  {
   "cell_type": "markdown",
   "id": "c6f96a07",
   "metadata": {},
   "source": [
    "## define gpt api"
   ]
  },
  {
   "cell_type": "code",
   "execution_count": 1,
   "id": "3c2a66fa",
   "metadata": {},
   "outputs": [],
   "source": [
    "import openai\n",
    "import os\n",
    "import time\n",
    "\n",
    "openai.api_key = 'enter your key here'\n",
    "\n",
    "def call_gpt_api(prompt, max_retries=10):\n",
    "    \n",
    "    gpt_prompt =  prompt\n",
    "    \n",
    "    for attempt in range(max_retries):\n",
    "        try:\n",
    "            response = openai.ChatCompletion.create(\n",
    "                model=\"gpt-4\",\n",
    "                messages=[\n",
    "                    {\"role\": \"system\", \"content\": \"You are a helpful assistant.\"},\n",
    "                    {\"role\": \"user\", \"content\": gpt_prompt}\n",
    "                ],\n",
    "                temperature = 0.2\n",
    "            )        \n",
    "            return response['choices'][0]['message']['content']\n",
    "        \n",
    "        except Exception as e:\n",
    "            print(f\"Error encountered: {e}\")\n",
    "            if attempt < max_retries - 1:\n",
    "                print(f\"Retrying ({attempt + 1}/{max_retries}) in 60 seconds...\")\n",
    "                time.sleep(60)\n",
    "                continue\n",
    "                \n",
    "            else:\n",
    "                print(f\"Failed after {max_retries} attempts. Skipping this prompt.\")\n",
    "                return None"
   ]
  },
  {
   "cell_type": "markdown",
   "id": "e805bde4",
   "metadata": {},
   "source": [
    "### define prompts and use cases"
   ]
  },
  {
   "cell_type": "code",
   "execution_count": 2,
   "id": "31ea696d",
   "metadata": {},
   "outputs": [],
   "source": [
    "#### base article"
   ]
  },
  {
   "cell_type": "code",
   "execution_count": 3,
   "id": "103972e1",
   "metadata": {},
   "outputs": [],
   "source": [
    "article = \"\"\" \n",
    "Cells are the most basic unit of life. All living things are made up of cells, from the simplest bacteria to the most complex human beings. Cells are so small that you can't see them with the naked eye, but they are incredibly powerful and complex.\n",
    "\n",
    "Each cell is its own tiny world, with its own membrane, cytoplasm, and nucleus. The membrane surrounds the cell and protects it from the outside world. The cytoplasm is the gel-like substance that fills the cell and contains all of its organelles. The nucleus is the control center of the cell, and it contains the cell's DNA.\n",
    "\n",
    "Cells come in all shapes and sizes, but they all have the same basic functions. Cells break down food to release energy, build new molecules, and reproduce. They also communicate with each other and respond to their environment.\n",
    "\n",
    "Cells are organized into tissues, which are organized into organs, which are organized into systems. The human body is made up of over 200 different types of cells, all working together to keep us alive and healthy.\n",
    "\n",
    "\"\"\""
   ]
  },
  {
   "cell_type": "code",
   "execution_count": 4,
   "id": "bb048170",
   "metadata": {},
   "outputs": [],
   "source": [
    "### prompts"
   ]
  },
  {
   "cell_type": "markdown",
   "id": "adbf83b9",
   "metadata": {},
   "source": [
    "### Dyslexia"
   ]
  },
  {
   "cell_type": "code",
   "execution_count": 5,
   "id": "8b21e3ea",
   "metadata": {},
   "outputs": [],
   "source": [
    "prompt_readability = \"\"\"  \n",
    "Modify the given text/article for dyslexia students with the following features -\n",
    "\n",
    "1. Improve sentence structure and character structure to make the text easier to read and comprehend.\n",
    "2. Replace complex words with alternative words next to it in brackets or provide simple explanations where possible.\n",
    "3. Insert additional spaces between characters to improve readability.\n",
    "4. Translate the text into [\"hindi\"] for multilingual accessibility.\n",
    "5. Simplify sentences while retaining the core message for better understanding.\n",
    "6. Any other techniques or adjustments that can enhance the text's accessibility for dyslexic students.\"\n",
    "incoming article starts here -\n",
    "\"\"\""
   ]
  },
  {
   "cell_type": "code",
   "execution_count": 6,
   "id": "fce91f50",
   "metadata": {},
   "outputs": [],
   "source": [
    "dyslexia_use_case_prompt = prompt_readability + article"
   ]
  },
  {
   "cell_type": "code",
   "execution_count": null,
   "id": "d0fed6da",
   "metadata": {},
   "outputs": [],
   "source": []
  },
  {
   "cell_type": "code",
   "execution_count": 2,
   "id": "453ed53a",
   "metadata": {},
   "outputs": [],
   "source": [
    "print(call_gpt_api(dyslexia_use_case_prompt))"
   ]
  },
  {
   "cell_type": "markdown",
   "id": "0543cefb",
   "metadata": {},
   "source": [
    "### ADHD\n"
   ]
  },
  {
   "cell_type": "code",
   "execution_count": 26,
   "id": "4b548926",
   "metadata": {},
   "outputs": [],
   "source": [
    "topic = article"
   ]
  },
  {
   "cell_type": "code",
   "execution_count": 30,
   "id": "b4bd1250",
   "metadata": {},
   "outputs": [],
   "source": [
    "prompt_adhd = f\"\"\" \n",
    "\"Generate interactive learning materials and organization aids for students with ADHD on the given learning material -  '{topic}':\n",
    "------------- Instructions -----------------------\n",
    "1. Create a set of engaging flashcards or a quiz with clear, concise questions and explanations to test and reinforce understanding of key concepts related to the topic.\n",
    "2. Develop a structured outline or a mind map to help students organize their thoughts and ideas when working on projects or essays related to the given topic.\n",
    "3. Ensure that the content is visually appealing and easy to follow, with attention to simplicity and clarity.\n",
    "4. Offer suggestions for strategies to help students stay focused, such as time management techniques or tools for breaking down complex tasks.\n",
    "5. Provide prompts for self-assessment and reflection to promote metacognition and enhance learning outcomes for students with ADHD.\n",
    "6. If applicable, suggest mnemonic devices or memory aids to help with the retention of essential information.\n",
    "7. Ensure that the materials are concise and avoid unnecessary distractions to cater to the specific needs of students with ADHD.\n",
    "8. Encourage active participation and engagement in the learning process, such as through interactive exercises or games.\n",
    "\n",
    "Please ensure that the generated content is designed with the unique learning needs of students with ADHD in mind, focusing on enhancing their understanding and engagement with the chosen topic.\"\n",
    "\n",
    "\"\"\""
   ]
  },
  {
   "cell_type": "code",
   "execution_count": 31,
   "id": "3d9f3634",
   "metadata": {},
   "outputs": [
    {
     "name": "stdout",
     "output_type": "stream",
     "text": [
      "Flashcards / Quiz\n",
      "\n",
      "1. Flashcards\n",
      "   - Front: \"What are the three main parts of a cell?\" \n",
      "     Back: \"Cytoplasm, membrane, and nucleus.\"\n",
      "   - Front: \"What is the function of a cell's membrane?\" \n",
      "     Back: \"The membrane surrounds the cell and protects it from the outside world.\"\n",
      "   - Front: \"What is the role of the nucleus in a cell?\" \n",
      "     Back: \"The nucleus is the control center of the cell, and it contains the cell's DNA.\"\n",
      "\n",
      "2. Quiz\n",
      "   - Q1: \"What is the most basic unit of life?\" \n",
      "     Ans: Cells.\n",
      "   - Q2: \"What are the basic functions of all cells?\" \n",
      "     Ans: Cells break down food to release energy, build new molecules, and reproduce.\n",
      "\n",
      "Outline / Mind Map\n",
      "Here is an outline to help organize the learning material.\n",
      "  1. Introduction to Cells\n",
      "     a. Definition\n",
      "     b. Size and visibility\n",
      "  2. Parts of a Cell  \n",
      "     a. Membrane\n",
      "     b. Cytoplasm\n",
      "     c. Nucleus\n",
      "  3. Functions of a Cell\n",
      "     a. Energy production\n",
      "     b. Molecule building\n",
      "     c. Reproduction\n",
      "  4. Organization of Cells in the Human Body\n",
      "     a. Tissues\n",
      "     b. Organs\n",
      "     c. Systems\n",
      "\n",
      "Suggested Strategies for focus:\n",
      "- Use timers to divide studying into manageable, focused blocks of time.\n",
      "- Use coloring or drawing to visually represent parts of a cell.\n",
      "\n",
      "Self-assessment and Reflection prompts:\n",
      "- \"What was the most interesting thing you learned about cells today?\"\n",
      "- \"What do you still find confusing about cells, and how can you seek clarity?\"\n",
      "\n",
      "Mnemonic device:\n",
      "- MNC for cell structure: Membrane (protects), Nucleus (controls), Cytoplasm (contains).\n",
      "\n",
      "Engagement Techniques:\n",
      "- Create a 3D model of a cell using craft materials.\n",
      "- Play a matching game with flashcards where students match cell parts to their functions. \n",
      "\n",
      "Remember that the key to teaching students with ADHD is to be patient and understanding, breaking the material into smaller digestible parts, and vary teaching methods to keep them engaged. Make sure the learning environment is distraction-free, and use lots of visuals and hands-on activities. Encourage their input and congratulate them for their efforts, big or small.\n"
     ]
    }
   ],
   "source": [
    "print(call_gpt_api(prompt_adhd))"
   ]
  },
  {
   "cell_type": "markdown",
   "id": "cdab8927",
   "metadata": {},
   "source": [
    "### prompts and data"
   ]
  },
  {
   "cell_type": "code",
   "execution_count": 6,
   "id": "1fb5f9d3",
   "metadata": {},
   "outputs": [],
   "source": [
    "import json"
   ]
  },
  {
   "cell_type": "code",
   "execution_count": 2,
   "id": "c016d5b2",
   "metadata": {},
   "outputs": [],
   "source": [
    "subjects = {\n",
    "    \"success\": True,\n",
    "    \"data\": {\n",
    "        \"examCategory\": \"vzxxxxxxxxxxx\",\n",
    "        \"exams\": [\n",
    "            \"ueoxxxxxxxxxxxx\",\n",
    "            \"ej5exxxxxxxxxxx\"\n",
    "        ],\n",
    "        \"subjects\": [\n",
    "            {\n",
    "                \"englishName\": \"Maths\",\n",
    "                \"hindiName\": None,\n",
    "                \"subjectId\": \"19c8xxxxxxxxxxx\",\n",
    "                \"icon\": \"\"\n",
    "            },\n",
    "            {\n",
    "                \"englishName\": \"Chemistry\",\n",
    "                \"hindiName\": \"Chemistry Hn\",\n",
    "                \"subjectId\": \"7xxxxxxxxxxx\",\n",
    "                \"icon\": \"\"\n",
    "            },\n",
    "            {\n",
    "                \"englishName\": \"Zoology\",\n",
    "                \"hindiName\": None,\n",
    "                \"subjectId\": \"fpxxxxxxxxxxx\",\n",
    "                \"icon\": \"\"\n",
    "            },\n",
    "            {\n",
    "                \"englishName\": \"Botany\",\n",
    "                \"hindiName\": None,\n",
    "                \"subjectId\": \"73xxxxxxxxxxxj\",\n",
    "                \"icon\": \"\"\n",
    "            }\n",
    "        ],\n",
    "        \"scoreInformation\": \"<!DOCTYPE html>\\n<html>\\n<head>\\n</head>\\n<body>\\n\\n</body>\\n</html>\"\n",
    "    }\n",
    "}\n"
   ]
  },
  {
   "cell_type": "code",
   "execution_count": 10,
   "id": "91e76f61",
   "metadata": {},
   "outputs": [],
   "source": [
    "prompt_json = \"\"\"  \n",
    "\n",
    "You will be provided with a json.\n",
    "you need to modify the englishname keys (insert spaces in between characters) so that it is more readable for dyslexic people.\n",
    "return the json after modification and do not return anything else.\n",
    "json starts here - \n",
    "\n",
    "\"\"\""
   ]
  },
  {
   "cell_type": "code",
   "execution_count": 29,
   "id": "9c84a330",
   "metadata": {},
   "outputs": [],
   "source": [
    "dyslexic_prompt_deprecated = \"\"\"  \n",
    "\n",
    "Context : You are a LLM which is helping students with dyslexia in rendering web pages.\n",
    "          You will be provided with a json.\n",
    "          \n",
    "Instruction : For englishname keys in the provided json . Make the following changes to their values ->\n",
    "1. Generate dyslexic-friendly HTML code to display user-provided text in an accessible manner.\n",
    "The code should include enhancements such as a dyslexic-friendly font (e.g., ‘OpenDyslexic’), background color (e.g., light gray), text color (e.g., black), and spacing for improved readability.\n",
    "2. Additionally, apply letter and word spacing adjustments to reduce visual stress. \n",
    "3. Add spacing between the characters for better readability eg Maths becomes M a t h s\n",
    "3. Incase the word seems complex/unreadable/contains multiple syllables or needs explanation for dyslexic students to understand , next to the word in brackets insert simplified version of words or translated in \"hinglish\" language such that it becomes easier for people to read and understand.\n",
    "Ensure the word inserted in brackets are part of general vocabulary of the audience and not difficult to interpret/understand\n",
    "\n",
    "Strictly Note : Return the json after modification and do not return anything else.\n",
    "\n",
    "Note : only return the json after modification. Make no errors with respect to the original json keys and its values since this will be called by the backend and frontend services.\n",
    "Incoming json starts here - \n",
    "\"\"\""
   ]
  },
  {
   "cell_type": "code",
   "execution_count": 9,
   "id": "74c6d0d2",
   "metadata": {},
   "outputs": [],
   "source": [
    "dyslexic_prompt = \"\"\"  \n",
    "\n",
    "Context: You are an LLM (Language Layout Modifier) tasked with enhancing web pages for students with dyslexia. You will receive a JSON input for this task.\n",
    "\n",
    "Instructions : Note: For all the englishName keys (do not leave out any key)- \n",
    "1. Create dyslexic-friendly HTML code to display the user-provided text in an accessible manner. This code should include improvements like using a dyslexic-friendly font for the englishname keys - ('OpenDyslexic' with fonttype:Comic Sans MS).\n",
    "2. Apply adjustments to letter and word spacing to reduce visual stress.\n",
    "3. Add spacing between the characters which can cause confusion for dyslexic people  for better readability (e.g., \"Maths\" becomes \"M a t h s\").\n",
    "Make sure to add necessary spaces between words after doing thr above modifications to improve readability.\n",
    "Also do not do modification for all the words - only do this for poptential complex/technical and confusion words targeted towards dyslexic people.\n",
    "4. Very important: Apply color coding to the englishName keys's words which can be difficult to read/interpret for dyslexic people to make it stand out for better readability when rendered. Example -  in case of d e v i a t i o n (dee-vee-ay-shun)\n",
    "on the basis of the phonetics colour de , vi , a ,tion each such set of characters in different colours \n",
    "   - Note: Use contrasting colors to ensure visibility against the background.\n",
    "   - Note: Use colors that enhance text visibility, such as dark red or dark green for half the characters, and consider making some characters bold for improved readability.\n",
    "5. Make sure to Include the English phonetics of important the word(s) in parentheses next to the spaced-out word (e.g., \"Chemistry\" becomes \"C h e m i s t r y (Ke-mis-try)\"). Ensure that the colors of each letter maximize readability.\n",
    "\n",
    "Keep rest of the keys as it is and accurate without any changes. Make sure you are accurate since the output will be directly called by backend services.\n",
    "Please make sure that your color choices are accurate and align with HTML color schemes to avoid rendering issues.\n",
    "\n",
    "Strictly Note: Return only the JSON in JSON format after modification. Do not return anything else. Ensure that there are no errors in the original JSON keys and their values, as this will be used by backend and frontend services.\n",
    "\n",
    "Incoming JSON begins here:\n",
    "\n",
    "\"\"\""
   ]
  },
  {
   "cell_type": "code",
   "execution_count": 10,
   "id": "be88247b",
   "metadata": {},
   "outputs": [
    {
     "data": {
      "text/plain": [
       "'  \\n\\nContext: You are an LLM (Language Layout Modifier) tasked with enhancing web pages for students with dyslexia. You will receive a JSON input for this task.\\n\\nInstructions : Note: For all the englishName keys (do not leave out any key)- \\n1. Create dyslexic-friendly HTML code to display the user-provided text in an accessible manner. This code should include improvements like using a dyslexic-friendly font for the englishname keys - (\\'OpenDyslexic\\' with fonttype:Comic Sans MS).\\n2. Apply adjustments to letter and word spacing to reduce visual stress.\\n3. Add spacing between the characters which can cause confusion for dyslexic people  for better readability (e.g., \"Maths\" becomes \"M a t h s\").\\nMake sure to add necessary spaces between words after doing thr above modifications to improve readability.\\nAlso do not do modification for all the words - only do this for poptential complex/technical and confusion words targeted towards dyslexic people.\\n4. Very important: Apply color coding to the englishName keys\\'s words which can be difficult to read/interpret for dyslexic people to make it stand out for better readability when rendered. Example -  in case of d e v i a t i o n (dee-vee-ay-shun)\\non the basis of the phonetics colour de , vi , a ,tion each such set of characters in different colours \\n   - Note: Use contrasting colors to ensure visibility against the background.\\n   - Note: Use colors that enhance text visibility, such as dark red or dark green for half the characters, and consider making some characters bold for improved readability.\\n5. Make sure to Include the English phonetics of important the word(s) in parentheses next to the spaced-out word (e.g., \"Chemistry\" becomes \"C h e m i s t r y (Ke-mis-try)\"). Ensure that the colors of each letter maximize readability.\\n\\nKeep rest of the keys as it is and accurate without any changes. Make sure you are accurate since the output will be directly called by backend services.\\nPlease make sure that your color choices are accurate and align with HTML color schemes to avoid rendering issues.\\n\\nStrictly Note: Return only the JSON in JSON format after modification. Do not return anything else. Ensure that there are no errors in the original JSON keys and their values, as this will be used by backend and frontend services.\\n\\nIncoming JSON begins here:\\n\\n{\\'success\\': True, \\'data\\': {\\'examCategory\\': \\'vckzned6mqjlkub8wsfh605rp\\', \\'exams\\': [\\'ueoxkk1djbdwup0wwxvlnvs86\\', \\'ej5e8l1qbf9bb3qj00wgu6904\\'], \\'subjects\\': [{\\'englishName\\': \\'Maths\\', \\'hindiName\\': None, \\'subjectId\\': \\'19c8p297y48dy01537cxzinys\\', \\'icon\\': \\'\\'}, {\\'englishName\\': \\'Chemistry\\', \\'hindiName\\': \\'Chemistry Hn\\', \\'subjectId\\': \\'7rgg2rb3rbirmrkpguofa7sor\\', \\'icon\\': \\'\\'}, {\\'englishName\\': \\'Zoology\\', \\'hindiName\\': None, \\'subjectId\\': \\'fpx64zbsdhwyc2a6vu0tnebga\\', \\'icon\\': \\'\\'}, {\\'englishName\\': \\'Botany\\', \\'hindiName\\': None, \\'subjectId\\': \\'734chcfe1nhx5ay0lh0n5d4qj\\', \\'icon\\': \\'\\'}], \\'scoreInformation\\': \\'<!DOCTYPE html>\\\\n<html>\\\\n<head>\\\\n</head>\\\\n<body>\\\\n\\\\n</body>\\\\n</html>\\'}}'"
      ]
     },
     "execution_count": 10,
     "metadata": {},
     "output_type": "execute_result"
    }
   ],
   "source": [
    "dyslexic_prompt + str(subjects)"
   ]
  },
  {
   "cell_type": "code",
   "execution_count": 11,
   "id": "84c90522",
   "metadata": {},
   "outputs": [
    {
     "data": {
      "text/plain": [
       "'{\\'success\\': True, \\'data\\': {\\'examCategory\\': \\'vckzned6mqjlkub8wsfh605rp\\', \\'exams\\': [\\'ueoxkk1djbdwup0wwxvlnvs86\\', \\'ej5e8l1qbf9bb3qj00wgu6904\\'], \\'subjects\\': [{\\'englishName\\': \\'<p style=\"font-family:OpenDyslexic, Comic Sans MS; letter-spacing:0.12em; word-spacing:0.16em;\"><span style=\"color:darkred;\">M</span> <span style=\"color:darkgreen;\">a</span> <span style=\"color:darkred;\">t</span> <span style=\"color:darkgreen;\">h</span> <span style=\"color:darkred;\">s</span> (Ma-ths)</p>\\', \\'hindiName\\': None, \\'subjectId\\': \\'19c8p297y48dy01537cxzinys\\', \\'icon\\': \\'\\'}, {\\'englishName\\': \\'<p style=\"font-family:OpenDyslexic, Comic Sans MS; letter-spacing:0.12em; word-spacing:0.16em;\"><span style=\"color:darkred;\">C</span> <span style=\"color:darkgreen;\">h</span> <span style=\"color:darkred;\">e</span> <span style=\"color:darkgreen;\">m</span> <span style=\"color:darkred;\">i</span> <span style=\"color:darkgreen;\">s</span> <span style=\"color:darkred;\">t</span> <span style=\"color:darkgreen;\">r</span> <span style=\"color:darkred;\">y</span> (Ke-mis-try)</p>\\', \\'hindiName\\': \\'Chemistry Hn\\', \\'subjectId\\': \\'7rgg2rb3rbirmrkpguofa7sor\\', \\'icon\\': \\'\\'}, {\\'englishName\\': \\'<p style=\"font-family:OpenDyslexic, Comic Sans MS; letter-spacing:0.12em; word-spacing:0.16em;\"><span style=\"color:darkred;\">Z</span> <span style=\"color:darkgreen;\">o</span> <span style=\"color:darkred;\">o</span> <span style=\"color:darkgreen;\">l</span> <span style=\"color:darkred;\">o</span> <span style=\"color:darkgreen;\">g</span> <span style=\"color:darkred;\">y</span> (Zoo-lo-gy)</p>\\', \\'hindiName\\': None, \\'subjectId\\': \\'fpx64zbsdhwyc2a6vu0tnebga\\', \\'icon\\': \\'\\'}, {\\'englishName\\': \\'<p style=\"font-family:OpenDyslexic, Comic Sans MS; letter-spacing:0.12em; word-spacing:0.16em;\"><span style=\"color:darkred;\">B</span> <span style=\"color:darkgreen;\">o</span> <span style=\"color:darkred;\">t</span> <span style=\"color:darkgreen;\">a</span> <span style=\"color:darkred;\">n</span> <span style=\"color:darkgreen;\">y</span> (Bo-ta-ny)</p>\\', \\'hindiName\\': None, \\'subjectId\\': \\'734chcfe1nhx5ay0lh0n5d4qj\\', \\'icon\\': \\'\\'}], \\'scoreInformation\\': \\'<!DOCTYPE html>\\\\n<html>\\\\n<head>\\\\n</head>\\\\n<body>\\\\n\\\\n</body>\\\\n</html>\\'}}'"
      ]
     },
     "execution_count": 11,
     "metadata": {},
     "output_type": "execute_result"
    }
   ],
   "source": [
    "output = (call_gpt_api(dyslexic_prompt + str(subjects)))\n",
    "output"
   ]
  },
  {
   "cell_type": "code",
   "execution_count": 19,
   "id": "3e152c7a",
   "metadata": {},
   "outputs": [],
   "source": [
    "ren_prompt = \"\"\" Generate HTML code only and not javascript\n",
    "which renders the englishName as described the json strictly to be tested locally - \n",
    "incoming json - \n",
    "\"\"\""
   ]
  },
  {
   "cell_type": "code",
   "execution_count": 20,
   "id": "38b0c635",
   "metadata": {},
   "outputs": [
    {
     "name": "stdout",
     "output_type": "stream",
     "text": [
      "Based on your request, here is a simple HTML code that renders the `englishName` from the provided JSON data:\n",
      "\n",
      "```html\n",
      "<!DOCTYPE html>\n",
      "<html>\n",
      "<head>\n",
      "    <title>Subjects</title>\n",
      "</head>\n",
      "<body>\n",
      "    <div id=\"subjects\">\n",
      "        <div>\n",
      "            <p style=\"font-family:OpenDyslexic, Comic Sans MS; letter-spacing:0.12em; word-spacing:0.16em;\"><span style=\"color:darkred;\">M</span> <span style=\"color:darkgreen;\">a</span> <span style=\"color:darkred;\">t</span> <span style=\"color:darkgreen;\">h</span> <span style=\"color:darkred;\">s</span> (Ma-ths)</p>\n",
      "        </div>\n",
      "        <div>\n",
      "            <p style=\"font-family:OpenDyslexic, Comic Sans MS; letter-spacing:0.12em; word-spacing:0.16em;\"><span style=\"color:darkred;\">C</span> <span style=\"color:darkgreen;\">h</span> <span style=\"color:darkred;\">e</span> <span style=\"color:darkgreen;\">m</span> <span style=\"color:darkred;\">i</span> <span style=\"color:darkgreen;\">s</span> <span style=\"color:darkred;\">t</span> <span style=\"color:darkgreen;\">r</span> <span style=\"color:darkred;\">y</span> (Ke-mis-try)</p>\n",
      "        </div>\n",
      "        <div>\n",
      "            <p style=\"font-family:OpenDyslexic, Comic Sans MS; letter-spacing:0.12em; word-spacing:0.16em;\"><span style=\"color:darkred;\">Z</span> <span style=\"color:darkgreen;\">o</span> <span style=\"color:darkred;\">o</span> <span style=\"color:darkgreen;\">l</span> <span style=\"color:darkred;\">o</span> <span style=\"color:darkgreen;\">g</span> <span style=\"color:darkred;\">y</span> (Zoo-lo-gy)</p>\n",
      "        </div>\n",
      "        <div>\n",
      "            <p style=\"font-family:OpenDyslexic, Comic Sans MS; letter-spacing:0.12em; word-spacing:0.16em;\"><span style=\"color:darkred;\">B</span> <span style=\"color:darkgreen;\">o</span> <span style=\"color:darkred;\">t</span> <span style=\"color:darkgreen;\">a</span> <span style=\"color:darkred;\">n</span> <span style=\"color:darkgreen;\">y</span> (Bo-ta-ny)</p>\n",
      "        </div>\n",
      "    </div>\n",
      "</body>\n",
      "</html>\n",
      "```\n",
      "\n",
      "This HTML code creates a webpage with the `englishName` of each subject from the JSON data. Each `englishName` is contained within a separate `<div>` element for better organization and potential styling.\n"
     ]
    }
   ],
   "source": [
    "print(call_gpt_api(ren_prompt + str(output)))"
   ]
  },
  {
   "cell_type": "markdown",
   "id": "08427c46",
   "metadata": {},
   "source": [
    "### subjects "
   ]
  },
  {
   "cell_type": "code",
   "execution_count": 95,
   "id": "cd6069cc",
   "metadata": {},
   "outputs": [],
   "source": [
    "questions = {\n",
    "    \"success\": True,\n",
    "    \"statusCode\": 201,\n",
    "    \"data\": {\n",
    "        \"_id\": \"6527xxxxxxxxxxx\",\n",
    "        \"questions\": [\n",
    "            {\n",
    "                \"questionId\": \"l91yxxxxxxxxxxx\",\n",
    "                \"content\": \"<p>The mean deviation of an ungrouped data is <math xmlns=\\\"http://www.w3.org/1998/Math/MathML\\\"><mn>80</mn></math> . If each observation is decreased by<math xmlns=\\\"http://www.w3.org/1998/Math/MathML\\\"><mn>5</mn><mo>%</mo></math>, then the new mean deviation is</p>\",\n",
    "                \"plainQuestionText\": \"The mean deviation of an ungrouped data is 80 . If each observation is decreased by5%, then the new mean deviation is\\n(1) 76\\n(2) 77\\n(3) 78\\n(4) 79\",\n",
    "                \"type\": 1,\n",
    "                \"difficulty\": 2,\n",
    "                \"options\": [\n",
    "                    {\n",
    "                        \"text\": \"<p><math xmlns=\\\"http://www.w3.org/1998/Math/MathML\\\"><mn>76</mn></math></p>\"\n",
    "                    },\n",
    "                    {\n",
    "                        \"text\": \"<p><math xmlns=\\\"http://www.w3.org/1998/Math/MathML\\\"><mn>77</mn></math></p>\"\n",
    "                    },\n",
    "                    {\n",
    "                        \"text\": \"<p><math xmlns=\\\"http://www.w3.org/1998/Math/MathML\\\"><mn>78</mn></math></p>\"\n",
    "                    },\n",
    "                    {\n",
    "                        \"text\": \"<p>79</p>\"\n",
    "                    }\n",
    "                ],\n",
    "                \"chapterName\": \"Statistics\",\n",
    "                \"typeTitle\": \"Single Choice Question\",\n",
    "                \"chapterId\": \"bawuaxxxxxxxxxxx\"\n",
    "            },\n",
    "            {\n",
    "                \"questionId\": \"wsz7xxxxxxxxxxx\",\n",
    "                \"content\": \"<p>The average of \\\\( n \\\\) numbers \\\\( x_{1}, x_{2}, \\\\ldots, x_{n} \\\\) is \\\\( M \\\\). If \\\\( x_{n} \\\\) is replaced by \\\\( x^{\\\\prime} \\\\), then the new average is</p>\",\n",
    "                \"plainQuestionText\": None,\n",
    "                \"type\": 1,\n",
    "                \"difficulty\": 2,\n",
    "                \"options\": [\n",
    "                    {\n",
    "                        \"text\": \"<p>\\\\( \\\\frac{M-x_{n}+x^{\\\\prime}}{n} \\\\)</p>\"\n",
    "                    },\n",
    "                    {\n",
    "                        \"text\": \"<p>\\\\( \\\\frac{(n-1) M+x^{\\\\prime}}{n} \\\\)</p>\"\n",
    "                    },\n",
    "                    {\n",
    "                        \"text\": \"<p>\\\\( \\\\frac{n M-x_{n}+x^{\\\\prime}}{n} \\\\)</p>\"\n",
    "                    },\n",
    "                    {\n",
    "                        \"text\": \"<p>\\\\( \\\\mathrm{M}-x_{n}+x^{\\\\prime} \\\\)</p>\"\n",
    "                    }\n",
    "                ],\n",
    "                \"chapterName\": \"Statistics\",\n",
    "                \"typeTitle\": \"Single Choice Question\",\n",
    "                \"chapterId\": \"bawxxxxxxxxxxx\"\n",
    "            },\n",
    "            {\n",
    "                \"questionId\": \"10j5xxxxxxxxxxx\",\n",
    "                \"content\": \"<p>Box 1 contains three cards bearing numbers \\\\( 1,2,3 \\\\); box 2 contains five cards bearing numbers \\\\( 1,2,3 \\\\), 4,5 ; and box 3 contains seven cards bearing numbers \\\\( 1,2,3,4,5,6,7 \\\\). A card is drawn from each of the boxes. Let \\\\( x_{i} \\\\) be the number on the card drawn from the \\\\( \\\\mathrm{i}^{\\\\text {th }} \\\\) box, \\\\( i=1,2,3 \\\\). The probability that \\\\( \\\\mathrm{x}_{1}, \\\\mathrm{x}_{2}, \\\\mathrm{x}_{3} \\\\) are in an arithmetic progression, is</p>\",\n",
    "                \"plainQuestionText\": \"Box 1 contains three cards bearing numbers \\\\( 1,2,3 \\\\); box 2 contains five cards bearing numbers \\\\( 1,2,3 \\\\), 4,5 ; and box 3 contains seven cards bearing numbers \\\\( 1,2,3,4,5,6,7 \\\\). A card is drawn from each of the boxes. Let \\\\( x_{i} \\\\) be the number on the card drawn from the \\\\( \\\\mathrm{i}^{\\\\text {th }} \\\\) box, \\\\( i=1,2,3 \\\\). The probability that \\\\( \\\\mathrm{x}_{1}, \\\\mathrm{x}_{2}, \\\\mathrm{x}_{3} \\\\) are in an arithmetic progression, is\\n(A) \\\\( \\\\frac{9}{105} \\\\)\\n(B) \\\\( \\\\frac{10}{105} \\\\)\\n(C) \\\\( \\\\frac{11}{105} \\\\)\\n(D) \\\\( \\\\frac{7}{105} \\\\)\",\n",
    "                \"type\": 1,\n",
    "                \"difficulty\": 2,\n",
    "                \"options\": [\n",
    "                    {\n",
    "                        \"text\": \"<p>&nbsp;\\\\( \\\\frac{9}{105} \\\\)</p>\"\n",
    "                    },\n",
    "                    {\n",
    "                        \"text\": \"<p>&nbsp;\\\\( \\\\frac{10}{105} \\\\)</p>\"\n",
    "                    },\n",
    "                    {\n",
    "                        \"text\": \"<p>\\\\( \\\\frac{11}{105} \\\\)</p>\"\n",
    "                    },\n",
    "                    {\n",
    "                        \"text\": \"<p>&nbsp;\\\\( \\\\frac{7}{105} \\\\)</p>\"\n",
    "                    }\n",
    "                ],\n",
    "                \"chapterName\": \"Probability\",\n",
    "                \"typeTitle\": \"Single Choice Question\",\n",
    "                \"chapterId\": \"l5rxxxxxxxxxxx\"\n",
    "            },\n",
    "            {\n",
    "                \"questionId\": \"7pxxxxxxxxxxx\",\n",
    "                \"content\": \"<p>Consider the system of equations <math xmlns=\\\"http://www.w3.org/1998/Math/MathML\\\"><mi>a</mi><mi>x</mi><mo>+</mo><mi>b</mi><mi>y</mi><mo>=</mo><mn>0</mn><mo>;</mo><mi>c</mi><mi>x</mi><mo>+</mo><mi>d</mi><mi>y</mi></math> P <math xmlns=\\\"http://www.w3.org/1998/Math/MathML\\\"><mo>=</mo><mn>0</mn></math>, where <math xmlns=\\\"http://www.w3.org/1998/Math/MathML\\\"><mi>a</mi><mo>,</mo><mi>b</mi><mo>,</mo><mi>c</mi><mo>,</mo><mi>d</mi><mo>,</mo><mo>&isin;</mo><mo>{</mo><mn>0</mn><mo>,</mo><mn>1</mn><mo>}</mo></math></p>\\n<p>Statement - 1: The probability that the system of equations has a unique solution is <math xmlns=\\\"http://www.w3.org/1998/Math/MathML\\\"><mn>3</mn><mo>/</mo><mn>8</mn></math> and</p>\\n<p>Statement - 2: The probability that the system of equations has a unique solution is 1 .</p>\",\n",
    "                \"plainQuestionText\": None,\n",
    "                \"type\": 7,\n",
    "                \"difficulty\": 2,\n",
    "                \"options\": [\n",
    "                    {\n",
    "                        \"text\": \"<p>Statement -1 is True, Statement - 2 is True;Statement - 2 is correct explanation for Statement -1</p>\"\n",
    "                    },\n",
    "                    {\n",
    "                        \"text\": \"<p>Statement - 1 is True, Statement - 2 True;Statement - 2 is not a correct explanation for statement - 1</p>\"\n",
    "                    },\n",
    "                    {\n",
    "                        \"text\": \"<p>&nbsp;Statement - 1 is True, Statement - 2 is False</p>\"\n",
    "                    },\n",
    "                    {\n",
    "                        \"text\": \"<p>Statement - 1 is False, Statement - 2 is True</p>\"\n",
    "                    }\n",
    "                ],\n",
    "                \"chapterName\": \"Probability\",\n",
    "                \"typeTitle\": \"Assertion Reasoning\",\n",
    "                \"chapterId\": \"l5r6xxxxxxxxxxxx\"\n",
    "            },\n",
    "            {\n",
    "                \"questionId\": \"9ne4xxxxxxxxxxx\",\n",
    "                \"content\": \"<p>If the mean and the standard deviation of the data&nbsp;<math xmlns=\\\"http://www.w3.org/1998/Math/MathML\\\"><mn>3</mn><mo>,</mo><mn>5</mn><mo>,</mo><mn>7</mn><mo>,</mo><mi>a</mi><mo>,</mo><mi>b</mi></math> are <math xmlns=\\\"http://www.w3.org/1998/Math/MathML\\\"><mn>5</mn></math> and <math xmlns=\\\"http://www.w3.org/1998/Math/MathML\\\"><mn>2</mn></math> respectively, then \\\\(a\\\\) and \\\\( b \\\\) are the roots of the equation</p>\",\n",
    "                \"plainQuestionText\": None,\n",
    "                \"type\": 1,\n",
    "                \"difficulty\": 2,\n",
    "                \"options\": [\n",
    "                    {\n",
    "                        \"text\": \"<p>\\\\( x^{2}-20 x+18=0 \\\\)</p>\"\n",
    "                    },\n",
    "                    {\n",
    "                        \"text\": \"<p>\\\\( 2 \\\\mathrm{x}^{2}-20 \\\\mathrm{x}+19=0 \\\\)</p>\"\n",
    "                    },\n",
    "                    {\n",
    "                        \"text\": \"<p>\\\\( \\\\mathrm{x}^{2}-10 \\\\mathrm{x}+18=0 \\\\)</p>\"\n",
    "                    },\n",
    "                    {\n",
    "                        \"text\": \"<p>\\\\( x^{2}-10 x+19=0 \\\\)</p>\"\n",
    "                    }\n",
    "                ],\n",
    "                \"chapterName\": \"Statistics\",\n",
    "                \"typeTitle\": \"Single Choice Question\",\n",
    "                \"chapterId\": \"bawuxxxxxxxxxxx\"\n",
    "            },\n",
    "            {\n",
    "                \"questionId\": \"auegckiwukcucchs7e1hjlk7o\",\n",
    "                \"content\": \"<p>Two fair dice, each with faces numbered 1, 2, 3, 4, 5 and 6 , are rolled together and the sum of the numbers on the faces are observed. This process are repeated till the sum is either a prime number or a perfect square. Suppose the sum turns out to be a perfect square before it turns out to be a prime number. If \\\\( \\\\mathrm{p} \\\\) is the probability that this perfect square is an odd number, then the value of \\\\( 14 \\\\mathrm{p} \\\\) are .............</p>\",\n",
    "                \"plainQuestionText\": None,\n",
    "                \"type\": 6,\n",
    "                \"difficulty\": 2,\n",
    "                \"options\": [\n",
    "                    {\n",
    "                        \"text\": \"<p>8</p>\"\n",
    "                    },\n",
    "                    {\n",
    "                        \"text\": \"<p>9</p>\"\n",
    "                    },\n",
    "                    {\n",
    "                        \"text\": \"<p>10</p>\"\n",
    "                    },\n",
    "                    {\n",
    "                        \"text\": \"<p>11</p>\"\n",
    "                    }\n",
    "                ],\n",
    "                \"chapterName\": \"Probability\",\n",
    "                \"typeTitle\": \"Fill In The Blanks\",\n",
    "                \"chapterId\": \"l5r6xxxxxxxxxxx\"\n",
    "            },\n",
    "            {\n",
    "                \"questionId\": \"dcnh88uzeqvrvilnihc5vw8gb\",\n",
    "                \"content\": \"<p>An unbiased coin is tossed. If the outcomes is a headthen a pair of unbiased dice is rolled and the sum of the numbers obtained on them is noted. If the toss of the coin results in tail then a card from a well shuffled pack of nine cards numbered \\\\( 1,2,3, \\\\ldots ., 9 \\\\) is randomly picked and the number on the card is noted. The probability that the noted number is either 7 or 8 is:</p>\",\n",
    "                \"plainQuestionText\": None,\n",
    "                \"type\": 1,\n",
    "                \"difficulty\": 2,\n",
    "                \"options\": [\n",
    "                    {\n",
    "                        \"text\": \"<p>\\\\( \\\\frac{19}{36} \\\\)&nbsp;</p>\"\n",
    "                    },\n",
    "                    {\n",
    "                        \"text\": \"<p>\\\\( \\\\frac{15}{72} \\\\)</p>\"\n",
    "                    },\n",
    "                    {\n",
    "                        \"text\": \"<p>\\\\( \\\\frac{13}{36} \\\\)</p>\"\n",
    "                    },\n",
    "                    {\n",
    "                        \"text\": \"<p>\\\\( \\\\frac{19}{72} \\\\)</p>\"\n",
    "                    }\n",
    "                ],\n",
    "                \"chapterName\": \"Probability\",\n",
    "                \"typeTitle\": \"Single Choice Question\",\n",
    "                \"chapterId\": \"l5r6xxxxxxxxxxx\"\n",
    "            },\n",
    "            {\n",
    "                \"questionId\": \"ii7yxxxxxxxxxxx\",\n",
    "                \"content\": \"<p>If a variable takes the discrete value \\\\( \\\\alpha+4, \\\\alpha-7 / 2, \\\\alpha-5 / 2, \\\\alpha-3, \\\\alpha-2, \\\\alpha+1 / 2, \\\\alpha- \\\\) \\\\( 1 / 2, \\\\alpha+5,(\\\\alpha&gt;0) \\\\), then the median is</p>\",\n",
    "                \"plainQuestionText\": None,\n",
    "                \"type\": 1,\n",
    "                \"difficulty\": 2,\n",
    "                \"options\": [\n",
    "                    {\n",
    "                        \"text\": \"<p>\\\\( \\\\alpha-5 / 4 \\\\)</p>\"\n",
    "                    },\n",
    "                    {\n",
    "                        \"text\": \"<p>\\\\( \\\\alpha-1 / 2 \\\\)</p>\"\n",
    "                    },\n",
    "                    {\n",
    "                        \"text\": \"<p>\\\\( \\\\alpha-2 \\\\)</p>\"\n",
    "                    },\n",
    "                    {\n",
    "                        \"text\": \"<p>\\\\( \\\\alpha+5 / 4 \\\\)</p>\"\n",
    "                    }\n",
    "                ],\n",
    "                \"chapterName\": \"Statistics\",\n",
    "                \"typeTitle\": \"Single Choice Question\",\n",
    "                \"chapterId\": \"bawuxxxxxxxxxxx\"\n",
    "            },\n",
    "            {\n",
    "                \"questionId\": \"q88tdxxxxxxxxxxx\",\n",
    "                \"content\": \"<p><math xmlns=\\\"http://www.w3.org/1998/Math/MathML\\\"><mi>A</mi></math> and <math xmlns=\\\"http://www.w3.org/1998/Math/MathML\\\"><mi>B</mi></math> stand in a ring along with 10 other persons. If the arrangement is at random, then the probability&nbsp;&nbsp;that there are exactly 3 persons between <math xmlns=\\\"http://www.w3.org/1998/Math/MathML\\\"><mi>A</mi></math> and <math xmlns=\\\"http://www.w3.org/1998/Math/MathML\\\"><mi>B</mi></math>, is:</p>\",\n",
    "                \"plainQuestionText\": None,\n",
    "                \"type\": 1,\n",
    "                \"difficulty\": 2,\n",
    "                \"options\": [\n",
    "                    {\n",
    "                        \"text\": \"<p><math xmlns=\\\"http://www.w3.org/1998/Math/MathML\\\"><mfrac><mn>1</mn><mn>11</mn></mfrac></math></p>\"\n",
    "                    },\n",
    "                    {\n",
    "                        \"text\": \"<p><math xmlns=\\\"http://www.w3.org/1998/Math/MathML\\\"><mfrac><mn>2</mn><mn>11</mn></mfrac></math></p>\"\n",
    "                    },\n",
    "                    {\n",
    "                        \"text\": \"<p><math xmlns=\\\"http://www.w3.org/1998/Math/MathML\\\"><mfrac><mn>3</mn><mn>11</mn></mfrac></math></p>\"\n",
    "                    },\n",
    "                    {\n",
    "                        \"text\": \"<p><math xmlns=\\\"http://www.w3.org/1998/Math/MathML\\\"><mfrac><mn>4</mn><mn>11</mn></mfrac></math></p>\"\n",
    "                    }\n",
    "                ],\n",
    "                \"chapterName\": \"Probability\",\n",
    "                \"typeTitle\": \"Single Choice Question\",\n",
    "                \"chapterId\": \"l5r6xxxxxxxxxxxx\"\n",
    "            },\n",
    "            {\n",
    "                \"questionId\": \"qkzvynbfj46ufya23r4vklsc2\",\n",
    "                \"content\": \"<p>Consider the following frequency distribution</p>\\n<p><img title=\\\"Screenshot 2023-04-25 220026.png\\\" src=\\\"https://d2bps9p1kiy4ka.cloudfront.net/5b09189f7285894d9130ccd0/qhs5d2b668q0ex5opuf9fttw8.png\\\" alt=\\\"\\\" width=\\\"488\\\" height=\\\"72\\\" /></p>\\n<p>If the sum of all frequencies is 584 and median is 45 , then \\\\( |\\\\alpha-\\\\beta| \\\\) is equal to</p>\",\n",
    "                \"plainQuestionText\": None,\n",
    "                \"type\": 6,\n",
    "                \"difficulty\": 2,\n",
    "                \"options\": [\n",
    "                    {\n",
    "                        \"text\": \"<p>164</p>\"\n",
    "                    },\n",
    "                    {\n",
    "                        \"text\": \"<p>165</p>\"\n",
    "                    },\n",
    "                    {\n",
    "                        \"text\": \"<p>166</p>\"\n",
    "                    },\n",
    "                    {\n",
    "                        \"text\": \"<p>167</p>\"\n",
    "                    }\n",
    "                ],\n",
    "                \"chapterName\": \"Statistics\",\n",
    "                \"typeTitle\": \"Fill In The Blanks\",\n",
    "                \"chapterId\": \"bawxxxxxxxxxxx\"\n",
    "            }\n",
    "        ]\n",
    "    }\n",
    "}\n"
   ]
  },
  {
   "cell_type": "code",
   "execution_count": 96,
   "id": "519e8976",
   "metadata": {},
   "outputs": [
    {
     "data": {
      "text/plain": [
       "list"
      ]
     },
     "execution_count": 96,
     "metadata": {},
     "output_type": "execute_result"
    }
   ],
   "source": [
    "type(questions['data']['questions'])"
   ]
  },
  {
   "cell_type": "code",
   "execution_count": 97,
   "id": "edc2fd83",
   "metadata": {},
   "outputs": [
    {
     "data": {
      "text/plain": [
       "10"
      ]
     },
     "execution_count": 97,
     "metadata": {},
     "output_type": "execute_result"
    }
   ],
   "source": [
    "len(questions['data']['questions'])"
   ]
  },
  {
   "cell_type": "code",
   "execution_count": 98,
   "id": "59f56b3c",
   "metadata": {},
   "outputs": [
    {
     "data": {
      "text/plain": [
       "{'questionId': 'l91yy18qccmuj4kbdwwk1wky4',\n",
       " 'content': '<p>The mean deviation of an ungrouped data is <math xmlns=\"http://www.w3.org/1998/Math/MathML\"><mn>80</mn></math> . If each observation is decreased by<math xmlns=\"http://www.w3.org/1998/Math/MathML\"><mn>5</mn><mo>%</mo></math>, then the new mean deviation is</p>',\n",
       " 'plainQuestionText': 'The mean deviation of an ungrouped data is 80 . If each observation is decreased by5%, then the new mean deviation is\\n(1) 76\\n(2) 77\\n(3) 78\\n(4) 79',\n",
       " 'type': 1,\n",
       " 'difficulty': 2,\n",
       " 'options': [{'text': '<p><math xmlns=\"http://www.w3.org/1998/Math/MathML\"><mn>76</mn></math></p>'},\n",
       "  {'text': '<p><math xmlns=\"http://www.w3.org/1998/Math/MathML\"><mn>77</mn></math></p>'},\n",
       "  {'text': '<p><math xmlns=\"http://www.w3.org/1998/Math/MathML\"><mn>78</mn></math></p>'},\n",
       "  {'text': '<p>79</p>'}],\n",
       " 'chapterName': 'Statistics',\n",
       " 'typeTitle': 'Single Choice Question',\n",
       " 'chapterId': 'bawuap94y9wzzotxb1628x4fb'}"
      ]
     },
     "execution_count": 98,
     "metadata": {},
     "output_type": "execute_result"
    }
   ],
   "source": [
    "(questions['data']['questions'])[0] "
   ]
  },
  {
   "cell_type": "code",
   "execution_count": 135,
   "id": "6437fca4",
   "metadata": {},
   "outputs": [],
   "source": [
    "questions_prompt = \"\"\"  \n",
    "\n",
    "Context: You are an LLM (Language Layout Modifier) tasked with enhancing web pages for students with dyslexia. You will receive a JSON input for this task.\n",
    "\n",
    "Instructions: Both For the \"content\" and \"plainQuestionText\" keys in the provided JSON, make the following modifications to their values:\n",
    "1. Create dyslexic-friendly HTML code to display the user-provided text in an accessible manner. This code should include improvements like using a dyslexic-friendly font for both the keys - ('OpenDyslexic' with fonttype:Comic Sans MS).\n",
    "2. Apply adjustments to letter and word spacing to reduce visual stress.\n",
    "3. Add spacing between the characters which can cause confusion for dyslexic people  for better readability (e.g., \"Maths\" becomes \"M a t h s\").\n",
    "Make sure to add necessary spaces between words after doing thr above modifications to improve readability.\n",
    "Also do not do modification for all the words - only do this for poptential complex/technical and confusion words targeted towards dyslexic people\n",
    "4. Very important: Apply color coding to the \"content\" and \"plainQuestionText\" keys's words which can be difficult to read/interpret for dyslexic people to make it stand out for better readability when rendered. Example -  in case of d e v i a t i o n (dee-vee-ay-shun)\n",
    "on the basis of the phonetics colour de , vi , a ,tion each such set of characters in different colours \n",
    "   - Note: Use contrasting colors to ensure visibility against the background.\n",
    "   - Note: Use colors that enhance text visibility, such as dark red or dark green for half the characters, and consider making some characters bold for improved readability.\n",
    "5. Make sure to Include the English phonetics of important the word(s) in parentheses next to the spaced-out word (e.g., \"Chemistry\" becomes \"C h e m i s t r y (Ke-mis-try)\"). Ensure that the colors of each letter maximize readability.\n",
    "\n",
    "Keep rest of the keys as it is and accurate without any changes. Make sure you are accurate since the output will be directly called by backend services.\n",
    "Please make sure that your color choices are accurate and align with HTML color schemes to avoid rendering issues.\n",
    "\n",
    "Strictly Note: Return only the JSON in JSON format after modification. Do not return anything else. Ensure that there are no errors in the original JSON keys and their values, as this will be used by backend and frontend services.\n",
    "\n",
    "Incoming JSON begins here:\n",
    "\n",
    "\"\"\""
   ]
  },
  {
   "cell_type": "code",
   "execution_count": 136,
   "id": "f068f07e",
   "metadata": {},
   "outputs": [
    {
     "data": {
      "text/plain": [
       "'{\\'questionId\\': \\'l91yy18qccmuj4kbdwwk1wky4\\', \\n \\'content\\': \\'<p style=\"font-family: OpenDyslexic, Comic Sans MS; letter-spacing: 0.12em; word-spacing: 0.16em;\">The <span style=\"color: darkred;\">m</span><span style=\"color: darkgreen;\">e</span><span style=\"color: darkred;\">a</span><span style=\"color: darkgreen;\">n</span> <span style=\"color: darkred;\">d</span><span style=\"color: darkgreen;\">e</span><span style=\"color: darkred;\">v</span><span style=\"color: darkgreen;\">i</span><span style=\"color: darkred;\">a</span><span style=\"color: darkgreen;\">t</span><span style=\"color: darkred;\">i</span><span style=\"color: darkgreen;\">o</span><span style=\"color: darkred;\">n</span> (dee-vee-ay-shun) of an <span style=\"color: darkred;\">u</span><span style=\"color: darkgreen;\">n</span><span style=\"color: darkred;\">g</span><span style=\"color: darkgreen;\">r</span><span style=\"color: darkred;\">o</span><span style=\"color: darkgreen;\">u</span><span style=\"color: darkred;\">p</span><span style=\"color: darkgreen;\">e</span><span style=\"color: darkred;\">d</span> <span style=\"color: darkgreen;\">d</span><span style=\"color: darkred;\">a</span><span style=\"color: darkgreen;\">t</span><span style=\"color: darkred;\">a</span> (un-groo-ped day-ta) is <math xmlns=\"http://www.w3.org/1998/Math/MathML\"><mn>80</mn></math> . If each <span style=\"color: darkred;\">o</span><span style=\"color: darkgreen;\">b</span><span style=\"color: darkred;\">s</span><span style=\"color: darkgreen;\">e</span><span style=\"color: darkred;\">r</span><span style=\"color: darkgreen;\">v</span><span style=\"color: darkred;\">a</span><span style=\"color: darkgreen;\">t</span><span style=\"color: darkred;\">i</span><span style=\"color: darkgreen;\">o</span><span style=\"color: darkred;\">n</span> (ob-ser-vay-shun) is decreased by<math xmlns=\"http://www.w3.org/1998/Math/MathML\"><mn>5</mn><mo>%</mo></math>, then the new <span style=\"color: darkred;\">m</span><span style=\"color: darkgreen;\">e</span><span style=\"color: darkred;\">a</span><span style=\"color: darkgreen;\">n</span> <span style=\"color: darkred;\">d</span><span style=\"color: darkgreen;\">e</span><span style=\"color: darkred;\">v</span><span style=\"color: darkgreen;\">i</span><span style=\"color: darkred;\">a</span><span style=\"color: darkgreen;\">t</span><span style=\"color: darkred;\">i</span><span style=\"color: darkgreen;\">o</span><span style=\"color: darkred;\">n</span> (dee-vee-ay-shun) is</p>\\', \\n \\'plainQuestionText\\': \\'The <span style=\"color: darkred;\">m</span><span style=\"color: darkgreen;\">e</span><span style=\"color: darkred;\">a</span><span style=\"color: darkgreen;\">n</span> <span style=\"color: darkred;\">d</span><span style=\"color: darkgreen;\">e</span><span style=\"color: darkred;\">v</span><span style=\"color: darkgreen;\">i</span><span style=\"color: darkred;\">a</span><span style=\"color: darkgreen;\">t</span><span style=\"color: darkred;\">i</span><span style=\"color: darkgreen;\">o</span><span style=\"color: darkred;\">n</span> (dee-vee-ay-shun) of an <span style=\"color: darkred;\">u</span><span style=\"color: darkgreen;\">n</span><span style=\"color: darkred;\">g</span><span style=\"color: darkgreen;\">r</span><span style=\"color: darkred;\">o</span><span style=\"color: darkgreen;\">u</span><span style=\"color: darkred;\">p</span><span style=\"color: darkgreen;\">e</span><span style=\"color: darkred;\">d</span> <span style=\"color: darkgreen;\">d</span><span style=\"color: darkred;\">a</span><span style=\"color: darkgreen;\">t</span><span style=\"color: darkred;\">a</span> (un-groo-ped day-ta) is 80 . If each <span style=\"color: darkred;\">o</span><span style=\"color: darkgreen;\">b</span><span style=\"color: darkred;\">s</span><span style=\"color: darkgreen;\">e</span><span style=\"color: darkred;\">r</span><span style=\"color: darkgreen;\">v</span><span style=\"color: darkred;\">a</span><span style=\"color: darkgreen;\">t</span><span style=\"color: darkred;\">i</span><span style=\"color: darkgreen;\">o</span><span style=\"color: darkred;\">n</span> (ob-ser-vay-shun) is decreased by5%, then the new <span style=\"color: darkred;\">m</span><span style=\"color: darkgreen;\">e</span><span style=\"color: darkred;\">a</span><span style=\"color: darkgreen;\">n</span> <span style=\"color: darkred;\">d</span><span style=\"color: darkgreen;\">e</span><span style=\"color: darkred;\">v</span><span style=\"color: darkgreen;\">i</span><span style=\"color: darkred;\">a</span><span style=\"color: darkgreen;\">t</span><span style=\"color: darkred;\">i</span><span style=\"color: darkgreen;\">o</span><span style=\"color: darkred;\">n</span> (dee-vee-ay-shun) is\\\\n(1) 76\\\\n(2) 77\\\\n(3) 78\\\\n(4) 79\\', \\n \\'type\\': 1, \\n \\'difficulty\\': 2, \\n \\'options\\': [{\\'text\\': \\'<p><math xmlns=\"http://www.w3.org/1998/Math/MathML\"><mn>76</mn></math></p>\\'}, {\\'text\\': \\'<p><math xmlns=\"http://www.w3.org/1998/Math/MathML\"><mn>77</mn></math></p>\\'}, {\\'text\\': \\'<p><math xmlns=\"http://www.w3.org/1998/Math/MathML\"><mn>78</mn></math></p>\\'}, {\\'text\\': \\'<p>79</p>\\'}], \\n \\'chapterName\\': \\'Statistics\\', \\n \\'typeTitle\\': \\'Single Choice Question\\', \\n \\'chapterId\\': \\'bawuap94y9wzzotxb1628x4fb\\'}'"
      ]
     },
     "execution_count": 136,
     "metadata": {},
     "output_type": "execute_result"
    }
   ],
   "source": [
    "output_quesn = (call_gpt_api((questions_prompt + str((questions['data']['questions'])[0] ))))\n",
    "output_quesn"
   ]
  },
  {
   "cell_type": "code",
   "execution_count": 137,
   "id": "22a15a83",
   "metadata": {},
   "outputs": [],
   "source": [
    "render_prompt = \"\"\"  \n",
    "\n",
    "Generate HTML code which renders the content and the plainQuestionText as described the json stricly - \n",
    "incoming json - \n",
    "\n",
    "\"\"\""
   ]
  },
  {
   "cell_type": "code",
   "execution_count": 140,
   "id": "31a646d1",
   "metadata": {},
   "outputs": [
    {
     "name": "stdout",
     "output_type": "stream",
     "text": [
      "Here is the HTML code that renders the content and the plainQuestionText as described in the JSON:\n",
      "\n",
      "```html\n",
      "<!DOCTYPE html>\n",
      "<html>\n",
      "<head>\n",
      "    <title>Question</title>\n",
      "</head>\n",
      "<body>\n",
      "    <h1>Chapter: Statistics</h1>\n",
      "    <h2>Type: Single Choice Question</h2>\n",
      "    <h3>Difficulty: 2</h3>\n",
      "    <div id=\"l91yy18qccmuj4kbdwwk1wky4\">\n",
      "        <p style=\"font-family: OpenDyslexic, Comic Sans MS; letter-spacing: 0.12em; word-spacing: 0.16em;\">The <span style=\"color: darkred;\">m</span><span style=\"color: darkgreen;\">e</span><span style=\"color: darkred;\">a</span><span style=\"color: darkgreen;\">n</span> <span style=\"color: darkred;\">d</span><span style=\"color: darkgreen;\">e</span><span style=\"color: darkred;\">v</span><span style=\"color: darkgreen;\">i</span><span style=\"color: darkred;\">a</span><span style=\"color: darkgreen;\">t</span><span style=\"color: darkred;\">i</span><span style=\"color: darkgreen;\">o</span><span style=\"color: darkred;\">n</span> (dee-vee-ay-shun) of an <span style=\"color: darkred;\">u</span><span style=\"color: darkgreen;\">n</span><span style=\"color: darkred;\">g</span><span style=\"color: darkgreen;\">r</span><span style=\"color: darkred;\">o</span><span style=\"color: darkgreen;\">u</span><span style=\"color: darkred;\">p</span><span style=\"color: darkgreen;\">e</span><span style=\"color: darkred;\">d</span> <span style=\"color: darkgreen;\">d</span><span style=\"color: darkred;\">a</span><span style=\"color: darkgreen;\">t</span><span style=\"color: darkred;\">a</span> (un-groo-ped day-ta) is <math xmlns=\"http://www.w3.org/1998/Math/MathML\"><mn>80</mn></math> . If each <span style=\"color: darkred;\">o</span><span style=\"color: darkgreen;\">b</span><span style=\"color: darkred;\">s</span><span style=\"color: darkgreen;\">e</span><span style=\"color: darkred;\">r</span><span style=\"color: darkgreen;\">v</span><span style=\"color: darkred;\">a</span><span style=\"color: darkgreen;\">t</span><span style=\"color: darkred;\">i</span><span style=\"color: darkgreen;\">o</span><span style=\"color: darkred;\">n</span> (ob-ser-vay-shun) is decreased by<math xmlns=\"http://www.w3.org/1998/Math/MathML\"><mn>5</mn><mo>%</mo></math>, then the new <span style=\"color: darkred;\">m</span><span style=\"color: darkgreen;\">e</span><span style=\"color: darkred;\">a</span><span style=\"color: darkgreen;\">n</span> <span style=\"color: darkred;\">d</span><span style=\"color: darkgreen;\">e</span><span style=\"color: darkred;\">v</span><span style=\"color: darkgreen;\">i</span><span style=\"color: darkred;\">a</span><span style=\"color: darkgreen;\">t</span><span style=\"color: darkred;\">i</span><span style=\"color: darkgreen;\">o</span><span style=\"color: darkred;\">n</span> (dee-vee-ay-shun) is</p>\n",
      "        <p>The <span style=\"color: darkred;\">m</span><span style=\"color: darkgreen;\">e</span><span style=\"color: darkred;\">a</span><span style=\"color: darkgreen;\">n</span> <span style=\"color: darkred;\">d</span><span style=\"color: darkgreen;\">e</span><span style=\"color: darkred;\">v</span><span style=\"color: darkgreen;\">i</span><span style=\"color: darkred;\">a</span><span style=\"color: darkgreen;\">t</span><span style=\"color: darkred;\">i</span><span style=\"color: darkgreen;\">o</span><span style=\"color: darkred;\">n</span> (dee-vee-ay-shun) of an <span style=\"color: darkred;\">u</span><span style=\"color: darkgreen;\">n</span><span style=\"color: darkred;\">g</span><span style=\"color: darkgreen;\">r</span><span style=\"color: darkred;\">o</span><span style=\"color: darkgreen;\">u</span><span style=\"color: darkred;\">p</span><span style=\"color: darkgreen;\">e</span><span style=\"color: darkred;\">d</span> <span style=\"color: darkgreen;\">d</span><span style=\"color: darkred;\">a</span><span style=\"color: darkgreen;\">t</span><span style=\"color: darkred;\">a</span> (un-groo-ped day-ta) is 80 . If each <span style=\"color: darkred;\">o</span><span style=\"color: darkgreen;\">b</span><span style=\"color: darkred;\">s</span><span style=\"color: darkgreen;\">e</span><span style=\"color: darkred;\">r</span><span style=\"color: darkgreen;\">v</span><span style=\"color: darkred;\">a</span><span style=\"color: darkgreen;\">t</span><span style=\"color: darkred;\">i</span><span style=\"color: darkgreen;\">o</span><span style=\"color: darkred;\">n</span> (ob-ser-vay-shun) is decreased by5%, then the new <span style=\"color: darkred;\">m</span><span style=\"color: darkgreen;\">e</span><span style=\"color: darkred;\">a</span><span style=\"color: darkgreen;\">n</span> <span style=\"color: darkred;\">d</span><span style=\"color: darkgreen;\">e</span><span style=\"color: darkred;\">v</span><span style=\"color: darkgreen;\">i</span><span style=\"color: darkred;\">a</span><span style=\"color: darkgreen;\">t</span><span style=\"color: darkred;\">i</span><span style=\"color: darkgreen;\">o</span><span style=\"color: darkred;\">n</span> (dee-vee-ay-shun) is</p>\n",
      "        <ol>\n",
      "            <li><p><math xmlns=\"http://www.w3.org/1998/Math/MathML\"><mn>76</mn></math></p></li>\n",
      "            <li><p><math xmlns=\"http://www.w3.org/1998/Math/MathML\"><mn>77</mn></math></p></li>\n",
      "            <li><p><math xmlns=\"http://www.w3.org/1998/Math/MathML\"><mn>78</mn></math></p></li>\n",
      "            <li><p>79</p></li>\n",
      "        </ol>\n",
      "    </div>\n",
      "</body>\n",
      "</html>\n",
      "```\n",
      "\n",
      "This HTML code includes the chapter name, question type, difficulty level, question content, plain question text, and the options for the question. The questionId is used as the id for the div containing the question.\n"
     ]
    }
   ],
   "source": [
    "print(call_gpt_api(render_prompt + str(output_quesn)))"
   ]
  },
  {
   "cell_type": "code",
   "execution_count": null,
   "id": "53ff33de",
   "metadata": {},
   "outputs": [],
   "source": []
  },
  {
   "cell_type": "code",
   "execution_count": null,
   "id": "134e6a05",
   "metadata": {},
   "outputs": [],
   "source": []
  },
  {
   "cell_type": "markdown",
   "id": "13789bf7",
   "metadata": {},
   "source": [
    "### generate for all the questions"
   ]
  },
  {
   "cell_type": "code",
   "execution_count": null,
   "id": "970b2599",
   "metadata": {},
   "outputs": [],
   "source": [
    "ques_op_list = []\n",
    "\n",
    "\n",
    "for i in range(len(questions['data']['questions'])):\n",
    "    json_text = (questions['data']['questions'])[i]\n",
    "    \n",
    "    output_quesn = (call_gpt_api((questions_prompt + str(json_text) )))\n",
    "    ques_op_list.append(output_quesn)\n",
    "    \n",
    "len(ques_op_list)"
   ]
  },
  {
   "cell_type": "code",
   "execution_count": null,
   "id": "5217ed22",
   "metadata": {},
   "outputs": [],
   "source": [
    "ques_op_list"
   ]
  },
  {
   "cell_type": "code",
   "execution_count": 21,
   "id": "f4002c89",
   "metadata": {},
   "outputs": [
    {
     "name": "stdout",
     "output_type": "stream",
     "text": [
      "{\"success\": true, \"data\": {\"examCategory\": \"vckzned6mqjlkub8wsfh605rp\", \"exams\": [\"ueoxkk1djbdwup0wwxvlnvs86\", \"ej5e8l1qbf9bb3qj00wgu6904\"], \"subjects\": [{\"englishName\": \"<span style=\\\"color: blue; font-family: OpenDyslexic, Comic Sans MS;\\\">m</span><span style=\\\"color: green; font-family: OpenDyslexic, Comic Sans MS;\\\">a</span><span style=\\\"color: red; font-family: OpenDyslexic, Comic Sans MS;\\\">ths</span>\", \"hindiName\": null, \"subjectId\": \"19c8p297y48dy01537cxzinys\", \"icon\": \"\"}, {\"englishName\": \"<span style=\\\"color: blue; font-family: OpenDyslexic, Comic Sans MS;\\\">ch</span><span style=\\\"color: green; font-family: OpenDyslexic, Comic Sans MS;\\\">e</span><span style=\\\"color: red; font-family: OpenDyslexic, Comic Sans MS;\\\">m</span><span style=\\\"color: blue; font-family: OpenDyslexic, Comic Sans MS;\\\">i</span><span style=\\\"color: green; font-family: OpenDyslexic, Comic Sans MS;\\\">str</span><span style=\\\"color: red; font-family: OpenDyslexic, Comic Sans MS;\\\">y</span>\", \"hindiName\": \"Chemistry Hn\", \"subjectId\": \"7rgg2rb3rbirmrkpguofa7sor\", \"icon\": \"\"}, {\"englishName\": \"<span style=\\\"color: blue; font-family: OpenDyslexic, Comic Sans MS;\\\">z</span><span style=\\\"color: green; font-family: OpenDyslexic, Comic Sans MS;\\\">oo</span><span style=\\\"color: red; font-family: OpenDyslexic, Comic Sans MS;\\\">l</span><span style=\\\"color: blue; font-family: OpenDyslexic, Comic Sans MS;\\\">o</span><span style=\\\"color: green; font-family: OpenDyslexic, Comic Sans MS;\\\">g</span><span style=\\\"color: red; font-family: OpenDyslexic, Comic Sans MS;\\\">y</span>\", \"hindiName\": null, \"subjectId\": \"fpx64zbsdhwyc2a6vu0tnebga\", \"icon\": \"\"}, {\"englishName\": \"<span style=\\\"color: blue; font-family: OpenDyslexic, Comic Sans MS;\\\">b</span><span style=\\\"color: green; font-family: OpenDyslexic, Comic Sans MS;\\\">o</span><span style=\\\"color: red; font-family: OpenDyslexic, Comic Sans MS;\\\">t</span><span style=\\\"color: blue; font-family: OpenDyslexic, Comic Sans MS;\\\">a</span><span style=\\\"color: green; font-family: OpenDyslexic, Comic Sans MS;\\\">n</span><span style=\\\"color: red; font-family: OpenDyslexic, Comic Sans MS;\\\">y</span>\", \"hindiName\": null, \"subjectId\": \"734chcfe1nhx5ay0lh0n5d4qj\", \"icon\": \"\"}], \"scoreInformation\": \"<!DOCTYPE html>\\n<html>\\n<head>\\n</head>\\n<body>\\n\\n</body>\\n</html>\"}}\n"
     ]
    }
   ],
   "source": [
    "import re\n",
    "import json\n",
    "\n",
    "# Function to split a word into phonetic syllables\n",
    "def split_word_into_syllables(word):\n",
    "    # Define a basic pattern for splitting English words into syllables\n",
    "    syllable_pattern = re.compile(r'[aeiouy]+|[^aeiouy]+')\n",
    "    syllables = syllable_pattern.findall(word.lower())\n",
    "    return syllables\n",
    "\n",
    "# Function to generate colored HTML code for a word based on phonetic syllables\n",
    "def generate_colored_html(word):\n",
    "    syllables = split_word_into_syllables(word)\n",
    "    colors = ['blue', 'green', 'red']  # You can customize the colors as needed\n",
    "    colored_word = \"\"\n",
    "    for i, syllable in enumerate(syllables):\n",
    "        color = colors[i % len(colors)]\n",
    "        colored_word += f'<span style=\"color: {color}; font-family: OpenDyslexic, Comic Sans MS;\">{syllable}</span>'\n",
    "    return colored_word\n",
    "\n",
    "# Given JSON data\n",
    "data = {\n",
    "    \"success\": True,\n",
    "    \"data\": {\n",
    "        \"examCategory\": \"vckzxxxxxxxxxxx\",\n",
    "        \"exams\": [\n",
    "            \"ueoxkk1djbdwup0wwxvlnvs86\",\n",
    "            \"ej5e8l1qbf9bb3qj00wgu6904\"\n",
    "        ],\n",
    "        \"subjects\": [\n",
    "            {\n",
    "                \"englishName\": \"Maths\",\n",
    "                \"hindiName\": None,\n",
    "                \"subjectId\": \"19c8pxxxxxxxxxxx\",\n",
    "                \"icon\": \"\"\n",
    "            },\n",
    "            {\n",
    "                \"englishName\": \"Chemistry\",\n",
    "                \"hindiName\": \"Chemistry Hn\",\n",
    "                \"subjectId\": \"7rgg2rb3rbirmrkpguofa7sor\",\n",
    "                \"icon\": \"\"\n",
    "            },\n",
    "            {\n",
    "                \"englishName\": \"Zoology\",\n",
    "                \"hindiName\": None,\n",
    "                \"subjectId\": \"fpx6xxxxxxxxxxx\",\n",
    "                \"icon\": \"\"\n",
    "            },\n",
    "            {\n",
    "                \"englishName\": \"Botany\",\n",
    "                \"hindiName\": None,\n",
    "                \"subjectId\": \"734cxxxxxxxxxxx\",\n",
    "                \"icon\": \"\"\n",
    "            }\n",
    "        ],\n",
    "        \"scoreInformation\": \"<!DOCTYPE html>\\n<html>\\n<head>\\n</head>\\n<body>\\n\\n</body>\\n</html>\"\n",
    "    }\n",
    "}\n",
    "\n",
    "# Process the JSON data and modify \"englishName\" values\n",
    "for subject in data[\"data\"][\"subjects\"]:\n",
    "    subject[\"englishName\"] = generate_colored_html(subject[\"englishName\"])\n",
    "\n",
    "# Convert the modified data back to JSON\n",
    "modified_json = json.dumps(data, ensure_ascii=False)\n",
    "\n",
    "# Print the modified JSON\n",
    "print(modified_json)\n"
   ]
  },
  {
   "cell_type": "code",
   "execution_count": null,
   "id": "4176910f",
   "metadata": {},
   "outputs": [],
   "source": []
  },
  {
   "cell_type": "code",
   "execution_count": null,
   "id": "c14e1d82",
   "metadata": {},
   "outputs": [],
   "source": []
  },
  {
   "cell_type": "code",
   "execution_count": null,
   "id": "e5081b7c",
   "metadata": {},
   "outputs": [],
   "source": []
  },
  {
   "cell_type": "code",
   "execution_count": null,
   "id": "ef0fe528",
   "metadata": {},
   "outputs": [],
   "source": []
  },
  {
   "cell_type": "code",
   "execution_count": null,
   "id": "de21245c",
   "metadata": {},
   "outputs": [],
   "source": []
  },
  {
   "cell_type": "code",
   "execution_count": null,
   "id": "2f8f5175",
   "metadata": {},
   "outputs": [],
   "source": []
  },
  {
   "cell_type": "code",
   "execution_count": null,
   "id": "37f2d44a",
   "metadata": {},
   "outputs": [],
   "source": []
  },
  {
   "cell_type": "code",
   "execution_count": null,
   "id": "c02fac9e",
   "metadata": {},
   "outputs": [],
   "source": []
  }
 ],
 "metadata": {
  "kernelspec": {
   "display_name": "Python 3",
   "language": "python",
   "name": "python3"
  },
  "language_info": {
   "codemirror_mode": {
    "name": "ipython",
    "version": 3
   },
   "file_extension": ".py",
   "mimetype": "text/x-python",
   "name": "python",
   "nbconvert_exporter": "python",
   "pygments_lexer": "ipython3",
   "version": "3.9.6"
  }
 },
 "nbformat": 4,
 "nbformat_minor": 5
}
